{
 "cells": [
  {
   "cell_type": "code",
   "execution_count": 1,
   "id": "fb94c336",
   "metadata": {},
   "outputs": [],
   "source": [
    "import pandas as pd\n",
    "import numpy as np\n",
    "import os,json"
   ]
  },
  {
   "cell_type": "code",
   "execution_count": 2,
   "id": "2d187a38",
   "metadata": {},
   "outputs": [],
   "source": [
    "# This can be defined as an external class\n",
    "from sklearn.base import BaseEstimator, RegressorMixin, TransformerMixin\n",
    "# Create the transformer to handle the attributes data\n",
    "class FlattenDict(BaseEstimator, TransformerMixin):\n",
    "    \n",
    "    def fit(self, X, y=None):\n",
    "        # This transformer doesn't need to learn anything about the data,\n",
    "        # so it can just return self without any further processing\n",
    "        return self\n",
    "\n",
    "\n",
    "    def flat_inner(self, J, dict_out=None, parent_key=None, separator=\"_\"):\n",
    "        if dict_out is None:\n",
    "            dict_out = {}\n",
    "        for k, v in J.items():\n",
    "            k = f\"{parent_key}{separator}{k}\" if parent_key else k\n",
    "            if isinstance(v, dict):\n",
    "                self.flat_inner(J=v, dict_out=dict_out, parent_key=k)\n",
    "            else:\n",
    "                dict_out[k] = v\n",
    "        return dict_out\n",
    "    \n",
    "    def transform(self,X):\n",
    "        dict_list=[]\n",
    "        for i in range(len(X)):\n",
    "            dict_list.append(self.flat_inner(X[i]))    \n",
    "        return pd.DataFrame(dict_list)"
   ]
  },
  {
   "cell_type": "code",
   "execution_count": 3,
   "id": "550a69ac",
   "metadata": {},
   "outputs": [],
   "source": [
    "flatten=FlattenDict()"
   ]
  },
  {
   "cell_type": "markdown",
   "id": "f7651c72",
   "metadata": {},
   "source": [
    "# Input data structure"
   ]
  },
  {
   "cell_type": "markdown",
   "id": "dca68bf8",
   "metadata": {},
   "source": [
    "##  Importing events"
   ]
  },
  {
   "cell_type": "code",
   "execution_count": 4,
   "id": "ccd6db0c",
   "metadata": {},
   "outputs": [],
   "source": [
    "path_to_json = '/Users/bshakirov/Desktop/TDI/Capstone_project/open-data-master/data/events/'\n",
    "all_events=[]\n",
    "for file_name in [file for file in os.listdir(path_to_json) if file.endswith('.json')]:\n",
    "    with open(path_to_json + file_name) as json_file:\n",
    "        data = json.load(json_file)\n",
    "        data=[dict(item, **{'match_id':int(file_name.replace('.json',''))}) for item in data]\n",
    "        all_events.extend(data)"
   ]
  },
  {
   "cell_type": "code",
   "execution_count": 5,
   "id": "d124a3a4",
   "metadata": {},
   "outputs": [],
   "source": [
    "#Flatten the columns and convert to df\n",
    "all_events_df=flatten.transform(all_events)"
   ]
  },
  {
   "cell_type": "code",
   "execution_count": 6,
   "id": "674d4687",
   "metadata": {},
   "outputs": [],
   "source": [
    "#Just to backup\n",
    "#all_events_df_2=all_events_df.copy()"
   ]
  },
  {
   "cell_type": "markdown",
   "id": "e960b67c",
   "metadata": {},
   "source": [
    "## Importing matches"
   ]
  },
  {
   "cell_type": "code",
   "execution_count": 7,
   "id": "e250021c",
   "metadata": {
    "scrolled": false
   },
   "outputs": [],
   "source": [
    "#Getting all match data\n",
    "all_matches=[]\n",
    "parent_dir='/Users/bshakirov/Desktop/TDI/Capstone_project/open-data-master/data/matches/'\n",
    "\n",
    "for path_name, dir_name, file_name in os.walk(parent_dir):\n",
    "    for sub_file in file_name: \n",
    "        if sub_file.endswith('.json'):\n",
    "            with open(path_name+'/'+sub_file) as json_file:\n",
    "                data=json.load(json_file)\n",
    "                all_matches.extend(data)"
   ]
  },
  {
   "cell_type": "code",
   "execution_count": 8,
   "id": "e4ef85ac",
   "metadata": {},
   "outputs": [],
   "source": [
    "#Convert all matches into df\n",
    "all_matches_df=flatten.transform(all_matches)"
   ]
  },
  {
   "cell_type": "markdown",
   "id": "a2839e46",
   "metadata": {},
   "source": [
    "## Defining the columns for use "
   ]
  },
  {
   "cell_type": "code",
   "execution_count": 9,
   "id": "07de8363",
   "metadata": {},
   "outputs": [],
   "source": [
    "#Only columns with priority\n",
    "columns_select=[\n",
    "                #columns needed for grouping or selecting\n",
    "                'team_name',\n",
    "                'position_id',\n",
    "                'player_id',\n",
    "                'match_id',\n",
    "    \n",
    "                #columns with bolean type\n",
    "                'ball_recovery_offensive',  #D\n",
    "                'ball_recovery_recovery_failure', #D\n",
    "                'block_deflection', #D\n",
    "                'block_offensive', #D\n",
    "                'block_save_block', #D\n",
    "                'clearance_aerial_won', #D\n",
    "                'counterpress', #D\n",
    "                'foul_committed_advantage', #FC   \n",
    "                'foul_committed_offensive',#FC\n",
    "                'foul_committed_penalty', #FC               \n",
    "                'foul_won_advantage', #FW\n",
    "                'foul_won_defensive', #FW\n",
    "                'foul_won_penalty', #FW\n",
    "                #columns that have second order priority\n",
    "                'dribble_nutmeg', #A\n",
    "                'miscontrol_aerial_won', #D\n",
    "                'pass_aerial_won', #P\n",
    "                'pass_backheel',#P\n",
    "                'pass_cross',#P\n",
    "                'pass_cut_back', #P\n",
    "                'pass_deflected', #P\n",
    "                'pass_goal_assist', #P\n",
    "                'pass_no_touch',#P\n",
    "                'pass_shot_assist', #P\n",
    "                'pass_switch', #P\n",
    "                'shot_aerial_won', #S\n",
    "                'shot_deflected', #S\n",
    "                'shot_follows_dribble', #S\n",
    "                'shot_one_on_one',#S\n",
    "                'shot_open_goal',#S\n",
    "                'shot_redirect', #S\n",
    "                \n",
    "                #columns for dummy variables\n",
    "                '50_50_outcome_name', #D\n",
    "                'duel_outcome_name', #D\n",
    "                'bad_behaviour_card_name', #Beh\n",
    "                'ball_receipt_outcome_name',\n",
    "                'foul_committed_card_name', #Beh\n",
    "                'foul_committed_type_name', #Beh\n",
    "                'interception_outcome_name', \n",
    "                'pass_outcome_name', #P\n",
    "                'shot_outcome_name', #P\n",
    "                ]\n",
    "\n",
    "#defensive 2-9 \n",
    "#foul 9 - 15\n",
    "#pass 15 - 26\n",
    "#shot 26 - 32\n"
   ]
  },
  {
   "cell_type": "code",
   "execution_count": 10,
   "id": "20106191",
   "metadata": {},
   "outputs": [],
   "source": [
    "#Columns to create dummy variables\n",
    "coded_columns=[ '50_50_outcome_name',\n",
    "                'bad_behaviour_card_name',\n",
    "                'ball_receipt_outcome_name',\n",
    "                'duel_outcome_name',\n",
    "                'foul_committed_card_name',\n",
    "                'foul_committed_type_name',\n",
    "                'interception_outcome_name',\n",
    "                'pass_outcome_name',\n",
    "                'shot_outcome_name'\n",
    "                ]"
   ]
  },
  {
   "cell_type": "code",
   "execution_count": 11,
   "id": "aab47fc7",
   "metadata": {},
   "outputs": [],
   "source": [
    "#Columns needed from matches dataframe\n",
    "match_col_names=['match_id',\n",
    "                 'away_team_away_team_name',\n",
    "                 'home_team_home_team_name',\n",
    "                 'away_score',\n",
    "                 'home_score',\n",
    "                 'home_team_home_team_gender'\n",
    "                ]"
   ]
  },
  {
   "cell_type": "markdown",
   "id": "9fffc5cd",
   "metadata": {},
   "source": [
    "## Defining functions"
   ]
  },
  {
   "cell_type": "code",
   "execution_count": 12,
   "id": "5c243942",
   "metadata": {},
   "outputs": [],
   "source": [
    "#Function for player's position\n",
    "def set_positions(df):\n",
    "    #Conditions to set multiple positions into compact style\n",
    "    conditions=[\n",
    "        (df['position_id']>25) | (df['position_id']<=1),\n",
    "        (df['position_id']>20) | (df['position_id']==17),\n",
    "        (df['position_id']>8),\n",
    "        (df['position_id']>1)\n",
    "        ]\n",
    "    values=['Unknown', 'Attack', 'Midfield', 'Defense']\n",
    "    \n",
    "    #Apply conditions and remove any misspecified position\n",
    "    df['position_id']=df['position_id'].astype(int)\n",
    "    df['position_id']=np.select(conditions, values)\n",
    "    df=df[df['position_id']!='Unknown']\n",
    "    \n",
    "    return df"
   ]
  },
  {
   "cell_type": "code",
   "execution_count": 13,
   "id": "b8de7580",
   "metadata": {},
   "outputs": [],
   "source": [
    "#Function used to create match result column: with logic if win then 1 else 0\n",
    "def won_condition(df_merge):\n",
    "    if df_merge['team_name']==df_merge['away_team_away_team_name'] and df_merge['away_score']>df_merge['home_score']:\n",
    "        return 1\n",
    "    elif df_merge['team_name']==df_merge['home_team_home_team_name'] and df_merge['away_score']<df_merge['home_score']:\n",
    "        return 1\n",
    "    else:\n",
    "        return 0"
   ]
  },
  {
   "cell_type": "code",
   "execution_count": 14,
   "id": "0c39e5ed",
   "metadata": {},
   "outputs": [],
   "source": [
    "def get_weights(df, player=False, position=False, gender=None):\n",
    "    \n",
    "     #Fill NA with False and cleaning data\n",
    "    df=df[df[\"position_id\"]!=1]    \n",
    "    \n",
    "    #Create df with selected features\n",
    "    features_df=df[columns_select]\n",
    "    \n",
    "    #Create dummy columns\n",
    "    features_df=pd.get_dummies(features_df, columns=coded_columns).fillna(False)\n",
    "    \n",
    "    #Combine positions to main positions\n",
    "    features_df=set_positions(features_df) #Added here because some process need to be done anyway\n",
    "    \n",
    "    #Grouping by conditions\n",
    "    if position:\n",
    "        \n",
    "        if player:\n",
    "            features_df=features_df.groupby(['match_id', 'team_name','player_id','position_id']).sum().reset_index()\n",
    "        \n",
    "        else:\n",
    "            features_df=features_df.groupby(['match_id', 'team_name','position_id']).sum().reset_index()\n",
    "    \n",
    "    elif player:\n",
    "        features_df=features_df.groupby(['match_id', 'team_name','player_id']).sum().reset_index()\n",
    "    \n",
    "    else:\n",
    "        features_df=features_df.groupby(['match_id', 'team_name']).sum().reset_index()\n",
    "   \n",
    "    #Merging matches and events df\n",
    "    features_df=pd.merge(features_df,all_matches_df[match_col_names],on='match_id',how='left')\n",
    "    \n",
    "    #Create match result column and drop columns that are not needed\n",
    "    features_df['match_result']=features_df.apply(won_condition, axis=1)\n",
    "    \n",
    "    #Select genders\n",
    "    if gender=='male':\n",
    "        features_df=features_df[features_df['home_team_home_team_gender']=='male']\n",
    "    elif gender=='female':\n",
    "        features_df=features_df[features_df['home_team_home_team_gender']=='female']\n",
    "    \n",
    "    features_df=features_df.drop(match_col_names[1:],axis=1).reset_index(drop=True)\n",
    "    return features_df"
   ]
  },
  {
   "cell_type": "markdown",
   "id": "7ace3d1e",
   "metadata": {},
   "source": [
    "# Data for training has been created at this point"
   ]
  },
  {
   "cell_type": "code",
   "execution_count": 15,
   "id": "24c6c056",
   "metadata": {},
   "outputs": [],
   "source": [
    "# Get the events based on some condition\n",
    "count_all = get_weights(all_events_df, gender = 'male')\n",
    "count_by_ply = get_weights(all_events_df, gender = 'male', player=True)"
   ]
  },
  {
   "cell_type": "code",
   "execution_count": 41,
   "id": "7c785224",
   "metadata": {
    "scrolled": true
   },
   "outputs": [
    {
     "name": "stderr",
     "output_type": "stream",
     "text": [
      "/Users/bshakirov/opt/anaconda3/lib/python3.9/site-packages/plotly/express/_core.py:271: FutureWarning:\n",
      "\n",
      "The frame.append method is deprecated and will be removed from pandas in a future version. Use pandas.concat instead.\n",
      "\n"
     ]
    },
    {
     "data": {
      "application/vnd.plotly.v1+json": {
       "config": {
        "plotlyServerURL": "https://plot.ly"
       },
       "data": [
        {
         "hovertemplate": "r=%{r}<br>theta=%{theta}<extra></extra>",
         "legendgroup": "",
         "line": {
          "color": "#636efa",
          "dash": "solid"
         },
         "marker": {
          "symbol": "circle"
         },
         "mode": "lines",
         "name": "",
         "r": [
          5,
          12,
          52,
          2,
          3,
          5
         ],
         "showlegend": false,
         "subplot": "polar",
         "theta": [
          "defensive",
          "foul",
          "pass",
          "shot",
          "other",
          "defensive"
         ],
         "type": "scatterpolar"
        }
       ],
       "layout": {
        "legend": {
         "tracegroupgap": 0
        },
        "polar": {
         "angularaxis": {
          "direction": "clockwise",
          "rotation": 90
         },
         "domain": {
          "x": [
           0,
           1
          ],
          "y": [
           0,
           1
          ]
         }
        },
        "template": {
         "data": {
          "bar": [
           {
            "error_x": {
             "color": "#2a3f5f"
            },
            "error_y": {
             "color": "#2a3f5f"
            },
            "marker": {
             "line": {
              "color": "#E5ECF6",
              "width": 0.5
             },
             "pattern": {
              "fillmode": "overlay",
              "size": 10,
              "solidity": 0.2
             }
            },
            "type": "bar"
           }
          ],
          "barpolar": [
           {
            "marker": {
             "line": {
              "color": "#E5ECF6",
              "width": 0.5
             },
             "pattern": {
              "fillmode": "overlay",
              "size": 10,
              "solidity": 0.2
             }
            },
            "type": "barpolar"
           }
          ],
          "carpet": [
           {
            "aaxis": {
             "endlinecolor": "#2a3f5f",
             "gridcolor": "white",
             "linecolor": "white",
             "minorgridcolor": "white",
             "startlinecolor": "#2a3f5f"
            },
            "baxis": {
             "endlinecolor": "#2a3f5f",
             "gridcolor": "white",
             "linecolor": "white",
             "minorgridcolor": "white",
             "startlinecolor": "#2a3f5f"
            },
            "type": "carpet"
           }
          ],
          "choropleth": [
           {
            "colorbar": {
             "outlinewidth": 0,
             "ticks": ""
            },
            "type": "choropleth"
           }
          ],
          "contour": [
           {
            "colorbar": {
             "outlinewidth": 0,
             "ticks": ""
            },
            "colorscale": [
             [
              0,
              "#0d0887"
             ],
             [
              0.1111111111111111,
              "#46039f"
             ],
             [
              0.2222222222222222,
              "#7201a8"
             ],
             [
              0.3333333333333333,
              "#9c179e"
             ],
             [
              0.4444444444444444,
              "#bd3786"
             ],
             [
              0.5555555555555556,
              "#d8576b"
             ],
             [
              0.6666666666666666,
              "#ed7953"
             ],
             [
              0.7777777777777778,
              "#fb9f3a"
             ],
             [
              0.8888888888888888,
              "#fdca26"
             ],
             [
              1,
              "#f0f921"
             ]
            ],
            "type": "contour"
           }
          ],
          "contourcarpet": [
           {
            "colorbar": {
             "outlinewidth": 0,
             "ticks": ""
            },
            "type": "contourcarpet"
           }
          ],
          "heatmap": [
           {
            "colorbar": {
             "outlinewidth": 0,
             "ticks": ""
            },
            "colorscale": [
             [
              0,
              "#0d0887"
             ],
             [
              0.1111111111111111,
              "#46039f"
             ],
             [
              0.2222222222222222,
              "#7201a8"
             ],
             [
              0.3333333333333333,
              "#9c179e"
             ],
             [
              0.4444444444444444,
              "#bd3786"
             ],
             [
              0.5555555555555556,
              "#d8576b"
             ],
             [
              0.6666666666666666,
              "#ed7953"
             ],
             [
              0.7777777777777778,
              "#fb9f3a"
             ],
             [
              0.8888888888888888,
              "#fdca26"
             ],
             [
              1,
              "#f0f921"
             ]
            ],
            "type": "heatmap"
           }
          ],
          "heatmapgl": [
           {
            "colorbar": {
             "outlinewidth": 0,
             "ticks": ""
            },
            "colorscale": [
             [
              0,
              "#0d0887"
             ],
             [
              0.1111111111111111,
              "#46039f"
             ],
             [
              0.2222222222222222,
              "#7201a8"
             ],
             [
              0.3333333333333333,
              "#9c179e"
             ],
             [
              0.4444444444444444,
              "#bd3786"
             ],
             [
              0.5555555555555556,
              "#d8576b"
             ],
             [
              0.6666666666666666,
              "#ed7953"
             ],
             [
              0.7777777777777778,
              "#fb9f3a"
             ],
             [
              0.8888888888888888,
              "#fdca26"
             ],
             [
              1,
              "#f0f921"
             ]
            ],
            "type": "heatmapgl"
           }
          ],
          "histogram": [
           {
            "marker": {
             "pattern": {
              "fillmode": "overlay",
              "size": 10,
              "solidity": 0.2
             }
            },
            "type": "histogram"
           }
          ],
          "histogram2d": [
           {
            "colorbar": {
             "outlinewidth": 0,
             "ticks": ""
            },
            "colorscale": [
             [
              0,
              "#0d0887"
             ],
             [
              0.1111111111111111,
              "#46039f"
             ],
             [
              0.2222222222222222,
              "#7201a8"
             ],
             [
              0.3333333333333333,
              "#9c179e"
             ],
             [
              0.4444444444444444,
              "#bd3786"
             ],
             [
              0.5555555555555556,
              "#d8576b"
             ],
             [
              0.6666666666666666,
              "#ed7953"
             ],
             [
              0.7777777777777778,
              "#fb9f3a"
             ],
             [
              0.8888888888888888,
              "#fdca26"
             ],
             [
              1,
              "#f0f921"
             ]
            ],
            "type": "histogram2d"
           }
          ],
          "histogram2dcontour": [
           {
            "colorbar": {
             "outlinewidth": 0,
             "ticks": ""
            },
            "colorscale": [
             [
              0,
              "#0d0887"
             ],
             [
              0.1111111111111111,
              "#46039f"
             ],
             [
              0.2222222222222222,
              "#7201a8"
             ],
             [
              0.3333333333333333,
              "#9c179e"
             ],
             [
              0.4444444444444444,
              "#bd3786"
             ],
             [
              0.5555555555555556,
              "#d8576b"
             ],
             [
              0.6666666666666666,
              "#ed7953"
             ],
             [
              0.7777777777777778,
              "#fb9f3a"
             ],
             [
              0.8888888888888888,
              "#fdca26"
             ],
             [
              1,
              "#f0f921"
             ]
            ],
            "type": "histogram2dcontour"
           }
          ],
          "mesh3d": [
           {
            "colorbar": {
             "outlinewidth": 0,
             "ticks": ""
            },
            "type": "mesh3d"
           }
          ],
          "parcoords": [
           {
            "line": {
             "colorbar": {
              "outlinewidth": 0,
              "ticks": ""
             }
            },
            "type": "parcoords"
           }
          ],
          "pie": [
           {
            "automargin": true,
            "type": "pie"
           }
          ],
          "scatter": [
           {
            "fillpattern": {
             "fillmode": "overlay",
             "size": 10,
             "solidity": 0.2
            },
            "type": "scatter"
           }
          ],
          "scatter3d": [
           {
            "line": {
             "colorbar": {
              "outlinewidth": 0,
              "ticks": ""
             }
            },
            "marker": {
             "colorbar": {
              "outlinewidth": 0,
              "ticks": ""
             }
            },
            "type": "scatter3d"
           }
          ],
          "scattercarpet": [
           {
            "marker": {
             "colorbar": {
              "outlinewidth": 0,
              "ticks": ""
             }
            },
            "type": "scattercarpet"
           }
          ],
          "scattergeo": [
           {
            "marker": {
             "colorbar": {
              "outlinewidth": 0,
              "ticks": ""
             }
            },
            "type": "scattergeo"
           }
          ],
          "scattergl": [
           {
            "marker": {
             "colorbar": {
              "outlinewidth": 0,
              "ticks": ""
             }
            },
            "type": "scattergl"
           }
          ],
          "scattermapbox": [
           {
            "marker": {
             "colorbar": {
              "outlinewidth": 0,
              "ticks": ""
             }
            },
            "type": "scattermapbox"
           }
          ],
          "scatterpolar": [
           {
            "marker": {
             "colorbar": {
              "outlinewidth": 0,
              "ticks": ""
             }
            },
            "type": "scatterpolar"
           }
          ],
          "scatterpolargl": [
           {
            "marker": {
             "colorbar": {
              "outlinewidth": 0,
              "ticks": ""
             }
            },
            "type": "scatterpolargl"
           }
          ],
          "scatterternary": [
           {
            "marker": {
             "colorbar": {
              "outlinewidth": 0,
              "ticks": ""
             }
            },
            "type": "scatterternary"
           }
          ],
          "surface": [
           {
            "colorbar": {
             "outlinewidth": 0,
             "ticks": ""
            },
            "colorscale": [
             [
              0,
              "#0d0887"
             ],
             [
              0.1111111111111111,
              "#46039f"
             ],
             [
              0.2222222222222222,
              "#7201a8"
             ],
             [
              0.3333333333333333,
              "#9c179e"
             ],
             [
              0.4444444444444444,
              "#bd3786"
             ],
             [
              0.5555555555555556,
              "#d8576b"
             ],
             [
              0.6666666666666666,
              "#ed7953"
             ],
             [
              0.7777777777777778,
              "#fb9f3a"
             ],
             [
              0.8888888888888888,
              "#fdca26"
             ],
             [
              1,
              "#f0f921"
             ]
            ],
            "type": "surface"
           }
          ],
          "table": [
           {
            "cells": {
             "fill": {
              "color": "#EBF0F8"
             },
             "line": {
              "color": "white"
             }
            },
            "header": {
             "fill": {
              "color": "#C8D4E3"
             },
             "line": {
              "color": "white"
             }
            },
            "type": "table"
           }
          ]
         },
         "layout": {
          "annotationdefaults": {
           "arrowcolor": "#2a3f5f",
           "arrowhead": 0,
           "arrowwidth": 1
          },
          "autotypenumbers": "strict",
          "coloraxis": {
           "colorbar": {
            "outlinewidth": 0,
            "ticks": ""
           }
          },
          "colorscale": {
           "diverging": [
            [
             0,
             "#8e0152"
            ],
            [
             0.1,
             "#c51b7d"
            ],
            [
             0.2,
             "#de77ae"
            ],
            [
             0.3,
             "#f1b6da"
            ],
            [
             0.4,
             "#fde0ef"
            ],
            [
             0.5,
             "#f7f7f7"
            ],
            [
             0.6,
             "#e6f5d0"
            ],
            [
             0.7,
             "#b8e186"
            ],
            [
             0.8,
             "#7fbc41"
            ],
            [
             0.9,
             "#4d9221"
            ],
            [
             1,
             "#276419"
            ]
           ],
           "sequential": [
            [
             0,
             "#0d0887"
            ],
            [
             0.1111111111111111,
             "#46039f"
            ],
            [
             0.2222222222222222,
             "#7201a8"
            ],
            [
             0.3333333333333333,
             "#9c179e"
            ],
            [
             0.4444444444444444,
             "#bd3786"
            ],
            [
             0.5555555555555556,
             "#d8576b"
            ],
            [
             0.6666666666666666,
             "#ed7953"
            ],
            [
             0.7777777777777778,
             "#fb9f3a"
            ],
            [
             0.8888888888888888,
             "#fdca26"
            ],
            [
             1,
             "#f0f921"
            ]
           ],
           "sequentialminus": [
            [
             0,
             "#0d0887"
            ],
            [
             0.1111111111111111,
             "#46039f"
            ],
            [
             0.2222222222222222,
             "#7201a8"
            ],
            [
             0.3333333333333333,
             "#9c179e"
            ],
            [
             0.4444444444444444,
             "#bd3786"
            ],
            [
             0.5555555555555556,
             "#d8576b"
            ],
            [
             0.6666666666666666,
             "#ed7953"
            ],
            [
             0.7777777777777778,
             "#fb9f3a"
            ],
            [
             0.8888888888888888,
             "#fdca26"
            ],
            [
             1,
             "#f0f921"
            ]
           ]
          },
          "colorway": [
           "#636efa",
           "#EF553B",
           "#00cc96",
           "#ab63fa",
           "#FFA15A",
           "#19d3f3",
           "#FF6692",
           "#B6E880",
           "#FF97FF",
           "#FECB52"
          ],
          "font": {
           "color": "#2a3f5f"
          },
          "geo": {
           "bgcolor": "white",
           "lakecolor": "white",
           "landcolor": "#E5ECF6",
           "showlakes": true,
           "showland": true,
           "subunitcolor": "white"
          },
          "hoverlabel": {
           "align": "left"
          },
          "hovermode": "closest",
          "mapbox": {
           "style": "light"
          },
          "paper_bgcolor": "white",
          "plot_bgcolor": "#E5ECF6",
          "polar": {
           "angularaxis": {
            "gridcolor": "white",
            "linecolor": "white",
            "ticks": ""
           },
           "bgcolor": "#E5ECF6",
           "radialaxis": {
            "gridcolor": "white",
            "linecolor": "white",
            "ticks": ""
           }
          },
          "scene": {
           "xaxis": {
            "backgroundcolor": "#E5ECF6",
            "gridcolor": "white",
            "gridwidth": 2,
            "linecolor": "white",
            "showbackground": true,
            "ticks": "",
            "zerolinecolor": "white"
           },
           "yaxis": {
            "backgroundcolor": "#E5ECF6",
            "gridcolor": "white",
            "gridwidth": 2,
            "linecolor": "white",
            "showbackground": true,
            "ticks": "",
            "zerolinecolor": "white"
           },
           "zaxis": {
            "backgroundcolor": "#E5ECF6",
            "gridcolor": "white",
            "gridwidth": 2,
            "linecolor": "white",
            "showbackground": true,
            "ticks": "",
            "zerolinecolor": "white"
           }
          },
          "shapedefaults": {
           "line": {
            "color": "#2a3f5f"
           }
          },
          "ternary": {
           "aaxis": {
            "gridcolor": "white",
            "linecolor": "white",
            "ticks": ""
           },
           "baxis": {
            "gridcolor": "white",
            "linecolor": "white",
            "ticks": ""
           },
           "bgcolor": "#E5ECF6",
           "caxis": {
            "gridcolor": "white",
            "linecolor": "white",
            "ticks": ""
           }
          },
          "title": {
           "x": 0.05
          },
          "xaxis": {
           "automargin": true,
           "gridcolor": "white",
           "linecolor": "white",
           "ticks": "",
           "title": {
            "standoff": 15
           },
           "zerolinecolor": "white",
           "zerolinewidth": 2
          },
          "yaxis": {
           "automargin": true,
           "gridcolor": "white",
           "linecolor": "white",
           "ticks": "",
           "title": {
            "standoff": 15
           },
           "zerolinecolor": "white",
           "zerolinewidth": 2
          }
         }
        },
        "title": {
         "text": "The skill rating (# of occurence per match)"
        }
       }
      },
      "text/html": [
       "<div>                            <div id=\"90678349-bc9b-4b87-af22-746e25ecb9d9\" class=\"plotly-graph-div\" style=\"height:525px; width:100%;\"></div>            <script type=\"text/javascript\">                require([\"plotly\"], function(Plotly) {                    window.PLOTLYENV=window.PLOTLYENV || {};                                    if (document.getElementById(\"90678349-bc9b-4b87-af22-746e25ecb9d9\")) {                    Plotly.newPlot(                        \"90678349-bc9b-4b87-af22-746e25ecb9d9\",                        [{\"hovertemplate\":\"r=%{r}<br>theta=%{theta}<extra></extra>\",\"legendgroup\":\"\",\"line\":{\"color\":\"#636efa\",\"dash\":\"solid\"},\"marker\":{\"symbol\":\"circle\"},\"mode\":\"lines\",\"name\":\"\",\"r\":[5,12,52,2,3,5],\"showlegend\":false,\"subplot\":\"polar\",\"theta\":[\"defensive\",\"foul\",\"pass\",\"shot\",\"other\",\"defensive\"],\"type\":\"scatterpolar\"}],                        {\"template\":{\"data\":{\"histogram2dcontour\":[{\"type\":\"histogram2dcontour\",\"colorbar\":{\"outlinewidth\":0,\"ticks\":\"\"},\"colorscale\":[[0.0,\"#0d0887\"],[0.1111111111111111,\"#46039f\"],[0.2222222222222222,\"#7201a8\"],[0.3333333333333333,\"#9c179e\"],[0.4444444444444444,\"#bd3786\"],[0.5555555555555556,\"#d8576b\"],[0.6666666666666666,\"#ed7953\"],[0.7777777777777778,\"#fb9f3a\"],[0.8888888888888888,\"#fdca26\"],[1.0,\"#f0f921\"]]}],\"choropleth\":[{\"type\":\"choropleth\",\"colorbar\":{\"outlinewidth\":0,\"ticks\":\"\"}}],\"histogram2d\":[{\"type\":\"histogram2d\",\"colorbar\":{\"outlinewidth\":0,\"ticks\":\"\"},\"colorscale\":[[0.0,\"#0d0887\"],[0.1111111111111111,\"#46039f\"],[0.2222222222222222,\"#7201a8\"],[0.3333333333333333,\"#9c179e\"],[0.4444444444444444,\"#bd3786\"],[0.5555555555555556,\"#d8576b\"],[0.6666666666666666,\"#ed7953\"],[0.7777777777777778,\"#fb9f3a\"],[0.8888888888888888,\"#fdca26\"],[1.0,\"#f0f921\"]]}],\"heatmap\":[{\"type\":\"heatmap\",\"colorbar\":{\"outlinewidth\":0,\"ticks\":\"\"},\"colorscale\":[[0.0,\"#0d0887\"],[0.1111111111111111,\"#46039f\"],[0.2222222222222222,\"#7201a8\"],[0.3333333333333333,\"#9c179e\"],[0.4444444444444444,\"#bd3786\"],[0.5555555555555556,\"#d8576b\"],[0.6666666666666666,\"#ed7953\"],[0.7777777777777778,\"#fb9f3a\"],[0.8888888888888888,\"#fdca26\"],[1.0,\"#f0f921\"]]}],\"heatmapgl\":[{\"type\":\"heatmapgl\",\"colorbar\":{\"outlinewidth\":0,\"ticks\":\"\"},\"colorscale\":[[0.0,\"#0d0887\"],[0.1111111111111111,\"#46039f\"],[0.2222222222222222,\"#7201a8\"],[0.3333333333333333,\"#9c179e\"],[0.4444444444444444,\"#bd3786\"],[0.5555555555555556,\"#d8576b\"],[0.6666666666666666,\"#ed7953\"],[0.7777777777777778,\"#fb9f3a\"],[0.8888888888888888,\"#fdca26\"],[1.0,\"#f0f921\"]]}],\"contourcarpet\":[{\"type\":\"contourcarpet\",\"colorbar\":{\"outlinewidth\":0,\"ticks\":\"\"}}],\"contour\":[{\"type\":\"contour\",\"colorbar\":{\"outlinewidth\":0,\"ticks\":\"\"},\"colorscale\":[[0.0,\"#0d0887\"],[0.1111111111111111,\"#46039f\"],[0.2222222222222222,\"#7201a8\"],[0.3333333333333333,\"#9c179e\"],[0.4444444444444444,\"#bd3786\"],[0.5555555555555556,\"#d8576b\"],[0.6666666666666666,\"#ed7953\"],[0.7777777777777778,\"#fb9f3a\"],[0.8888888888888888,\"#fdca26\"],[1.0,\"#f0f921\"]]}],\"surface\":[{\"type\":\"surface\",\"colorbar\":{\"outlinewidth\":0,\"ticks\":\"\"},\"colorscale\":[[0.0,\"#0d0887\"],[0.1111111111111111,\"#46039f\"],[0.2222222222222222,\"#7201a8\"],[0.3333333333333333,\"#9c179e\"],[0.4444444444444444,\"#bd3786\"],[0.5555555555555556,\"#d8576b\"],[0.6666666666666666,\"#ed7953\"],[0.7777777777777778,\"#fb9f3a\"],[0.8888888888888888,\"#fdca26\"],[1.0,\"#f0f921\"]]}],\"mesh3d\":[{\"type\":\"mesh3d\",\"colorbar\":{\"outlinewidth\":0,\"ticks\":\"\"}}],\"scatter\":[{\"fillpattern\":{\"fillmode\":\"overlay\",\"size\":10,\"solidity\":0.2},\"type\":\"scatter\"}],\"parcoords\":[{\"type\":\"parcoords\",\"line\":{\"colorbar\":{\"outlinewidth\":0,\"ticks\":\"\"}}}],\"scatterpolargl\":[{\"type\":\"scatterpolargl\",\"marker\":{\"colorbar\":{\"outlinewidth\":0,\"ticks\":\"\"}}}],\"bar\":[{\"error_x\":{\"color\":\"#2a3f5f\"},\"error_y\":{\"color\":\"#2a3f5f\"},\"marker\":{\"line\":{\"color\":\"#E5ECF6\",\"width\":0.5},\"pattern\":{\"fillmode\":\"overlay\",\"size\":10,\"solidity\":0.2}},\"type\":\"bar\"}],\"scattergeo\":[{\"type\":\"scattergeo\",\"marker\":{\"colorbar\":{\"outlinewidth\":0,\"ticks\":\"\"}}}],\"scatterpolar\":[{\"type\":\"scatterpolar\",\"marker\":{\"colorbar\":{\"outlinewidth\":0,\"ticks\":\"\"}}}],\"histogram\":[{\"marker\":{\"pattern\":{\"fillmode\":\"overlay\",\"size\":10,\"solidity\":0.2}},\"type\":\"histogram\"}],\"scattergl\":[{\"type\":\"scattergl\",\"marker\":{\"colorbar\":{\"outlinewidth\":0,\"ticks\":\"\"}}}],\"scatter3d\":[{\"type\":\"scatter3d\",\"line\":{\"colorbar\":{\"outlinewidth\":0,\"ticks\":\"\"}},\"marker\":{\"colorbar\":{\"outlinewidth\":0,\"ticks\":\"\"}}}],\"scattermapbox\":[{\"type\":\"scattermapbox\",\"marker\":{\"colorbar\":{\"outlinewidth\":0,\"ticks\":\"\"}}}],\"scatterternary\":[{\"type\":\"scatterternary\",\"marker\":{\"colorbar\":{\"outlinewidth\":0,\"ticks\":\"\"}}}],\"scattercarpet\":[{\"type\":\"scattercarpet\",\"marker\":{\"colorbar\":{\"outlinewidth\":0,\"ticks\":\"\"}}}],\"carpet\":[{\"aaxis\":{\"endlinecolor\":\"#2a3f5f\",\"gridcolor\":\"white\",\"linecolor\":\"white\",\"minorgridcolor\":\"white\",\"startlinecolor\":\"#2a3f5f\"},\"baxis\":{\"endlinecolor\":\"#2a3f5f\",\"gridcolor\":\"white\",\"linecolor\":\"white\",\"minorgridcolor\":\"white\",\"startlinecolor\":\"#2a3f5f\"},\"type\":\"carpet\"}],\"table\":[{\"cells\":{\"fill\":{\"color\":\"#EBF0F8\"},\"line\":{\"color\":\"white\"}},\"header\":{\"fill\":{\"color\":\"#C8D4E3\"},\"line\":{\"color\":\"white\"}},\"type\":\"table\"}],\"barpolar\":[{\"marker\":{\"line\":{\"color\":\"#E5ECF6\",\"width\":0.5},\"pattern\":{\"fillmode\":\"overlay\",\"size\":10,\"solidity\":0.2}},\"type\":\"barpolar\"}],\"pie\":[{\"automargin\":true,\"type\":\"pie\"}]},\"layout\":{\"autotypenumbers\":\"strict\",\"colorway\":[\"#636efa\",\"#EF553B\",\"#00cc96\",\"#ab63fa\",\"#FFA15A\",\"#19d3f3\",\"#FF6692\",\"#B6E880\",\"#FF97FF\",\"#FECB52\"],\"font\":{\"color\":\"#2a3f5f\"},\"hovermode\":\"closest\",\"hoverlabel\":{\"align\":\"left\"},\"paper_bgcolor\":\"white\",\"plot_bgcolor\":\"#E5ECF6\",\"polar\":{\"bgcolor\":\"#E5ECF6\",\"angularaxis\":{\"gridcolor\":\"white\",\"linecolor\":\"white\",\"ticks\":\"\"},\"radialaxis\":{\"gridcolor\":\"white\",\"linecolor\":\"white\",\"ticks\":\"\"}},\"ternary\":{\"bgcolor\":\"#E5ECF6\",\"aaxis\":{\"gridcolor\":\"white\",\"linecolor\":\"white\",\"ticks\":\"\"},\"baxis\":{\"gridcolor\":\"white\",\"linecolor\":\"white\",\"ticks\":\"\"},\"caxis\":{\"gridcolor\":\"white\",\"linecolor\":\"white\",\"ticks\":\"\"}},\"coloraxis\":{\"colorbar\":{\"outlinewidth\":0,\"ticks\":\"\"}},\"colorscale\":{\"sequential\":[[0.0,\"#0d0887\"],[0.1111111111111111,\"#46039f\"],[0.2222222222222222,\"#7201a8\"],[0.3333333333333333,\"#9c179e\"],[0.4444444444444444,\"#bd3786\"],[0.5555555555555556,\"#d8576b\"],[0.6666666666666666,\"#ed7953\"],[0.7777777777777778,\"#fb9f3a\"],[0.8888888888888888,\"#fdca26\"],[1.0,\"#f0f921\"]],\"sequentialminus\":[[0.0,\"#0d0887\"],[0.1111111111111111,\"#46039f\"],[0.2222222222222222,\"#7201a8\"],[0.3333333333333333,\"#9c179e\"],[0.4444444444444444,\"#bd3786\"],[0.5555555555555556,\"#d8576b\"],[0.6666666666666666,\"#ed7953\"],[0.7777777777777778,\"#fb9f3a\"],[0.8888888888888888,\"#fdca26\"],[1.0,\"#f0f921\"]],\"diverging\":[[0,\"#8e0152\"],[0.1,\"#c51b7d\"],[0.2,\"#de77ae\"],[0.3,\"#f1b6da\"],[0.4,\"#fde0ef\"],[0.5,\"#f7f7f7\"],[0.6,\"#e6f5d0\"],[0.7,\"#b8e186\"],[0.8,\"#7fbc41\"],[0.9,\"#4d9221\"],[1,\"#276419\"]]},\"xaxis\":{\"gridcolor\":\"white\",\"linecolor\":\"white\",\"ticks\":\"\",\"title\":{\"standoff\":15},\"zerolinecolor\":\"white\",\"automargin\":true,\"zerolinewidth\":2},\"yaxis\":{\"gridcolor\":\"white\",\"linecolor\":\"white\",\"ticks\":\"\",\"title\":{\"standoff\":15},\"zerolinecolor\":\"white\",\"automargin\":true,\"zerolinewidth\":2},\"scene\":{\"xaxis\":{\"backgroundcolor\":\"#E5ECF6\",\"gridcolor\":\"white\",\"linecolor\":\"white\",\"showbackground\":true,\"ticks\":\"\",\"zerolinecolor\":\"white\",\"gridwidth\":2},\"yaxis\":{\"backgroundcolor\":\"#E5ECF6\",\"gridcolor\":\"white\",\"linecolor\":\"white\",\"showbackground\":true,\"ticks\":\"\",\"zerolinecolor\":\"white\",\"gridwidth\":2},\"zaxis\":{\"backgroundcolor\":\"#E5ECF6\",\"gridcolor\":\"white\",\"linecolor\":\"white\",\"showbackground\":true,\"ticks\":\"\",\"zerolinecolor\":\"white\",\"gridwidth\":2}},\"shapedefaults\":{\"line\":{\"color\":\"#2a3f5f\"}},\"annotationdefaults\":{\"arrowcolor\":\"#2a3f5f\",\"arrowhead\":0,\"arrowwidth\":1},\"geo\":{\"bgcolor\":\"white\",\"landcolor\":\"#E5ECF6\",\"subunitcolor\":\"white\",\"showland\":true,\"showlakes\":true,\"lakecolor\":\"white\"},\"title\":{\"x\":0.05},\"mapbox\":{\"style\":\"light\"}}},\"polar\":{\"domain\":{\"x\":[0.0,1.0],\"y\":[0.0,1.0]},\"angularaxis\":{\"direction\":\"clockwise\",\"rotation\":90}},\"legend\":{\"tracegroupgap\":0},\"title\":{\"text\":\"The skill rating (# of occurence per match)\"}},                        {\"responsive\": true}                    ).then(function(){\n",
       "                            \n",
       "var gd = document.getElementById('90678349-bc9b-4b87-af22-746e25ecb9d9');\n",
       "var x = new MutationObserver(function (mutations, observer) {{\n",
       "        var display = window.getComputedStyle(gd).display;\n",
       "        if (!display || display === 'none') {{\n",
       "            console.log([gd, 'removed!']);\n",
       "            Plotly.purge(gd);\n",
       "            observer.disconnect();\n",
       "        }}\n",
       "}});\n",
       "\n",
       "// Listen for the removal of the full notebook cells\n",
       "var notebookContainer = gd.closest('#notebook-container');\n",
       "if (notebookContainer) {{\n",
       "    x.observe(notebookContainer, {childList: true});\n",
       "}}\n",
       "\n",
       "// Listen for the clearing of the current output cell\n",
       "var outputEl = gd.closest('.output');\n",
       "if (outputEl) {{\n",
       "    x.observe(outputEl, {childList: true});\n",
       "}}\n",
       "\n",
       "                        })                };                });            </script>        </div>"
      ]
     },
     "metadata": {},
     "output_type": "display_data"
    },
    {
     "data": {
      "text/plain": [
       "'/Users/bshakirov/Desktop/TDI/Capstone_project/soccer_analytics/fair_player_value/modelling_part/skill_rating.html'"
      ]
     },
     "execution_count": 41,
     "metadata": {},
     "output_type": "execute_result"
    }
   ],
   "source": [
    "#SPYDER CHART\n",
    "\n",
    "import plotly as plt\n",
    "import pandas as pd\n",
    "\n",
    "n = 6 #You can use player id as well \n",
    "df_spyder = pd.DataFrame(dict(\n",
    "        r =[sum(count_all.iloc[n,2:8]), sum(count_all.iloc[n,9:15]), sum(count_all.iloc[n,15:25]), \n",
    "        sum(count_all.iloc[n,26:32]), sum(count_all.iloc[n,32:39])],\n",
    "        theta = ['defensive','foul','pass','shot', 'other']))\n",
    "fig = plt.express.line_polar(df_spyder, r='r', theta='theta', line_close=True, \n",
    "                    title=\"The skill rating (# of occurence per match)\")\n",
    "fig.show()\n",
    "plt.offline.plot(fig, filename='/Users/bshakirov/Desktop/TDI/Capstone_project/soccer_analytics/fair_player_value/modelling_part/skill_rating.html')"
   ]
  },
  {
   "cell_type": "code",
   "execution_count": 17,
   "id": "40fbb137",
   "metadata": {},
   "outputs": [],
   "source": [
    "#Choosing variables to fit the model\n",
    "X=count_all.iloc[:,2:-1]\n",
    "y=count_all['match_result']"
   ]
  },
  {
   "cell_type": "code",
   "execution_count": 39,
   "id": "36c485bb",
   "metadata": {},
   "outputs": [
    {
     "data": {
      "text/plain": [
       "'/Users/bshakirov/Desktop/TDI/Capstone_project/soccer_analytics/fair_player_value/modelling_part'"
      ]
     },
     "execution_count": 39,
     "metadata": {},
     "output_type": "execute_result"
    }
   ],
   "source": [
    "pwd"
   ]
  },
  {
   "cell_type": "code",
   "execution_count": 18,
   "id": "15420846",
   "metadata": {
    "scrolled": false
   },
   "outputs": [
    {
     "name": "stdout",
     "output_type": "stream",
     "text": [
      "0.8650980392156863\n",
      "0.8150470219435737\n",
      "[[168  27]\n",
      " [ 32  92]]\n"
     ]
    },
    {
     "data": {
      "text/plain": [
       "{'linearSVC__C': 1}"
      ]
     },
     "execution_count": 18,
     "metadata": {},
     "output_type": "execute_result"
    }
   ],
   "source": [
    "from sklearn import metrics\n",
    "from sklearn.pipeline import Pipeline\n",
    "from sklearn.model_selection import GridSearchCV\n",
    "\n",
    "from sklearn.model_selection import train_test_split\n",
    " \n",
    "# To calculate the accuracy score of the model\n",
    "from sklearn.metrics import accuracy_score, confusion_matrix\n",
    "\n",
    "from sklearn.svm import SVC, LinearSVC\n",
    "\n",
    "from sklearn.preprocessing import StandardScaler, LabelEncoder\n",
    "\n",
    "X = StandardScaler().fit_transform(X)\n",
    "\n",
    "X_train, X_test, y_train, y_test = train_test_split(X,y, test_size = 0.2, random_state = 10)\n",
    "\n",
    "pipe_svc = Pipeline([('stdscaler', StandardScaler()),\n",
    "                     ('linearSVC', LinearSVC(fit_intercept=True, dual = False))])\n",
    "\n",
    "param_svc = {'linearSVC__C': [0.001, 0.01, 0.1, 1, 10, 100]}\n",
    "\n",
    "svc_gs = GridSearchCV(pipe_svc, param_svc, cv=5, n_jobs = 4)\n",
    "\n",
    "\n",
    "\n",
    "# Building a Support Vector Machine on train data\n",
    "\n",
    "svc_model_gs = svc_gs.fit(X_train, y_train)\n",
    "#Found the best model\n",
    "#svc_model = LinearSVC(fit_intercept=True, dual = False,  max_iter = 50000,random_state=10)\n",
    "#svc_model.fit(X_train, y_train)\n",
    " \n",
    "prediction = svc_model_gs.predict(X_test)\n",
    "# check the accuracy on the training set\n",
    "print(svc_model_gs.score(X_train, y_train))\n",
    "print(svc_model_gs.score(X_test, y_test))\n",
    "confusion_mat = confusion_matrix(y_test,prediction)\n",
    "print(confusion_mat)\n",
    "\n",
    "#We need to create pipeline and gridsearch\n",
    "svc_model_gs.best_params_"
   ]
  },
  {
   "cell_type": "code",
   "execution_count": 19,
   "id": "7eaeffda",
   "metadata": {},
   "outputs": [],
   "source": [
    "#Normalizing the weights\n",
    "total=sum(np.abs(svc_model_gs.best_estimator_.named_steps.linearSVC.coef_[0]))\n",
    "weights=svc_model_gs.best_estimator_.named_steps.linearSVC.coef_[0]/total"
   ]
  },
  {
   "cell_type": "code",
   "execution_count": 20,
   "id": "52c7528d",
   "metadata": {},
   "outputs": [],
   "source": [
    "#Setting index of df with player based counts\n",
    "count_by_ply=count_by_ply.drop(['match_result','team_name'],axis=1).set_index(['match_id','player_id'])"
   ]
  },
  {
   "cell_type": "code",
   "execution_count": 21,
   "id": "20e940ca",
   "metadata": {},
   "outputs": [],
   "source": [
    "weighted_counts = count_by_ply.dot(weights).reset_index()"
   ]
  },
  {
   "cell_type": "code",
   "execution_count": 22,
   "id": "095542bf",
   "metadata": {},
   "outputs": [],
   "source": [
    "# Sort weights according to recent matches\n",
    "sorted_weights = pd.merge(weighted_counts,all_matches_df[['match_id','match_date']], on='match_id', how='left')\\\n",
    "                .sort_values('match_date').set_index(['match_id','match_date','player_id'])\\\n",
    "                .unstack(level=-1).droplevel(0)"
   ]
  },
  {
   "cell_type": "code",
   "execution_count": 23,
   "id": "390bf41f",
   "metadata": {},
   "outputs": [],
   "source": [
    "#Ewma calculation\n",
    "def ewma_calculation(column):\n",
    "    return column.dropna().sort_index().ewm(alpha=0.5).mean()[-1]\n",
    "\n",
    "ewma_df = pd.DataFrame(sorted_weights.apply(ewma_calculation, axis=0), columns=['weights']).droplevel(0)"
   ]
  },
  {
   "cell_type": "code",
   "execution_count": 24,
   "id": "37ec0719",
   "metadata": {},
   "outputs": [],
   "source": [
    "#Adding player names to the final table and export to csv\n",
    "names_only = all_events_df[['player_id', 'player_name']].drop_duplicates()\n",
    "features_df = pd.merge(ewma_df, names_only, on=['player_id'], how = 'left').to_csv('features.csv')"
   ]
  },
  {
   "cell_type": "code",
   "execution_count": null,
   "id": "a75f203a",
   "metadata": {},
   "outputs": [],
   "source": []
  }
 ],
 "metadata": {
  "kernelspec": {
   "display_name": "Python 3 (ipykernel)",
   "language": "python",
   "name": "python3"
  },
  "language_info": {
   "codemirror_mode": {
    "name": "ipython",
    "version": 3
   },
   "file_extension": ".py",
   "mimetype": "text/x-python",
   "name": "python",
   "nbconvert_exporter": "python",
   "pygments_lexer": "ipython3",
   "version": "3.9.13"
  }
 },
 "nbformat": 4,
 "nbformat_minor": 5
}
