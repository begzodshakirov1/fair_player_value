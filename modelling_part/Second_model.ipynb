{
 "cells": [
  {
   "cell_type": "code",
   "execution_count": 1,
   "id": "1d58ddea",
   "metadata": {},
   "outputs": [],
   "source": [
    "import requests\n",
    "from bs4 import BeautifulSoup\n",
    "import pandas as pd\n",
    "from itertools import combinations"
   ]
  },
  {
   "cell_type": "code",
   "execution_count": 2,
   "id": "b6083650",
   "metadata": {},
   "outputs": [],
   "source": [
    "headers={'User-Agent': 'Mozilla/5.0 (Macintosh; Intel Mac OS X 10_15_7) AppleWebKit/537.36 (KHTML, like Gecko) Chrome/109.0.0.0 Safari/537.36'}\n",
    "url = \"https://www.transfermarkt.com/statistik/transferrekorde/statistik\"\n",
    "param={'ajax':'yw2',\n",
    "       'saison_id':\"\",\n",
    "       'land_id':0,\n",
    "       'ausrichtung':\"\",\n",
    "       'spielerposition_id':\"\",\n",
    "       'altersklasse':\"\",\n",
    "       'leihe':\"\",\n",
    "       'w_s':\"\",\n",
    "       'plus':1,\n",
    "       'page':0\n",
    "      }\n",
    "\n",
    "player_name = []\n",
    "player_age = []\n",
    "player_m_value = []\n",
    "player_tr_fee = []\n",
    "player_nationality = []\n",
    "transfer_season = []\n",
    "\n",
    "for i in range(1,11):\n",
    "    param['page']+=1\n",
    "    response = requests.get(url, params = param, headers = headers)\n",
    "    soup = BeautifulSoup(response.text)\n",
    "    \n",
    "    #Get player names\n",
    "    inline_table = soup.select('table.inline-table')\n",
    "    for i in range(0,len(inline_table),3):\n",
    "        player_name.append(inline_table[i].find('img')['alt'])\n",
    "    \n",
    "    #Get market value and tranfer fees\n",
    "    value_fees=soup.select('td.rechts')\n",
    "    for i in range(0, len(value_fees),2):\n",
    "        player_m_value.append(str(value_fees[i]).split('\">')[1].split('</')[0])\n",
    "        player_tr_fee.append(str(value_fees[i+1]).split('\">')[2].split('</')[0])\n",
    "    \n",
    "    #Get other info\n",
    "    other_info = soup.select('td.zentriert')\n",
    "    for i in range(0,len(other_info),5):\n",
    "        player_age.append(str(other_info[i+1]).split('\">')[1].split('</')[0])\n",
    "        transfer_season.append(str(other_info[i+2]).split('\">')[2].split('</')[0])\n",
    "        player_nationality.append(other_info[i+3].find('img')['alt'])\n",
    "        \n",
    "df = pd.DataFrame({'Name':player_name,\n",
    "                   'Nationality':player_nationality,\n",
    "                   'Age':player_age,\n",
    "                   'Market Value': player_m_value,\n",
    "                   'Transfer fee': player_tr_fee,\n",
    "                   'Transfer season': transfer_season\n",
    "                  })"
   ]
  },
  {
   "cell_type": "code",
   "execution_count": 3,
   "id": "143ad281",
   "metadata": {},
   "outputs": [],
   "source": [
    "#Restriction (a player recorded more than one transfer -> solution: keep only the latest transfer)\n",
    "df = df.sort_values('Age', ascending=False).drop_duplicates(subset='Name')"
   ]
  },
  {
   "cell_type": "markdown",
   "id": "50ad9883",
   "metadata": {},
   "source": [
    "## Matching player names with player ids"
   ]
  },
  {
   "cell_type": "code",
   "execution_count": 4,
   "id": "f877f40c",
   "metadata": {},
   "outputs": [],
   "source": [
    "#Reading file from events list\n",
    "features_list = pd.read_csv('features_single_rating.csv', index_col=0)"
   ]
  },
  {
   "cell_type": "code",
   "execution_count": 5,
   "id": "f6fb47ae",
   "metadata": {},
   "outputs": [],
   "source": [
    "#Converting names in transfer to a list for further use\n",
    "transfer_list = df['Name'].to_list()"
   ]
  },
  {
   "cell_type": "code",
   "execution_count": 6,
   "id": "f8e3baa6",
   "metadata": {},
   "outputs": [],
   "source": [
    "#Function that create combination of name list \n",
    "#reason: player names are written not in full format we need to match\n",
    "def combine_names(pl_name):\n",
    "    split_name = pl_name.split()\n",
    "    comb_list = []\n",
    "    for r in range(1, len(split_name)+1):\n",
    "        for comb in combinations(split_name, r):\n",
    "            comb_list.append(\" \".join(comb))\n",
    "    return comb_list"
   ]
  },
  {
   "cell_type": "code",
   "execution_count": 7,
   "id": "6c13394a",
   "metadata": {},
   "outputs": [],
   "source": [
    "#Create a list with name cobinations\n",
    "combination_list = [combine_names(features_list['player_name'][_]) for _ in range(len(features_list))]"
   ]
  },
  {
   "cell_type": "code",
   "execution_count": 8,
   "id": "762e601b",
   "metadata": {},
   "outputs": [],
   "source": [
    "#Match the transfer list to get ids from full list\n",
    "index_list = []\n",
    "for player in transfer_list:\n",
    "    for j in range(len(combination_list)):\n",
    "        if player in combination_list[j]:\n",
    "            index_list.append((j, player))"
   ]
  },
  {
   "cell_type": "code",
   "execution_count": 9,
   "id": "bcca3236",
   "metadata": {},
   "outputs": [],
   "source": [
    "#Convert to df and remove names that matched more than 1 combinations\n",
    "index_list_df = pd.DataFrame(index_list,columns=['idx','Name']) \\\n",
    "                .drop_duplicates(subset='Name', keep=False) \\\n",
    "                .set_index('idx', drop=True)"
   ]
  },
  {
   "cell_type": "code",
   "execution_count": 10,
   "id": "a9e4fef4",
   "metadata": {},
   "outputs": [],
   "source": [
    "#Combine with list to get ids\n",
    "joined_df_id = index_list_df.join(features_list)"
   ]
  },
  {
   "cell_type": "code",
   "execution_count": 11,
   "id": "519ebd7e",
   "metadata": {},
   "outputs": [],
   "source": [
    "#Merge joined list with transfer data\n",
    "merged_transfer_id = pd.merge(joined_df_id, df, how='left', on = ['Name'])\n",
    "                              #left_on = 'player_name_', right_on='Name')"
   ]
  },
  {
   "cell_type": "code",
   "execution_count": 12,
   "id": "fbf286d4",
   "metadata": {},
   "outputs": [],
   "source": [
    "#Convert transfer fee from string to float\n",
    "merged_transfer_id['price']=merged_transfer_id['Transfer fee'].str[1:-1].astype('float')"
   ]
  },
  {
   "cell_type": "code",
   "execution_count": 13,
   "id": "9ee3b9fc",
   "metadata": {},
   "outputs": [
    {
     "name": "stderr",
     "output_type": "stream",
     "text": [
      "/var/folders/hg/r0y8n0n9463dnkb6415p8kh81z03s2/T/ipykernel_72207/2865226629.py:3: SettingWithCopyWarning: \n",
      "A value is trying to be set on a copy of a slice from a DataFrame.\n",
      "Try using .loc[row_indexer,col_indexer] = value instead\n",
      "\n",
      "See the caveats in the documentation: https://pandas.pydata.org/pandas-docs/stable/user_guide/indexing.html#returning-a-view-versus-a-copy\n",
      "  mtm_df['mtm'] = mtm_df['Market Value'].str[1:-1].astype('float')\n"
     ]
    }
   ],
   "source": [
    "#Convert transfer fee from string to float\n",
    "mtm_df=merged_transfer_id[merged_transfer_id['Market Value']!='-']\n",
    "mtm_df['mtm'] = mtm_df['Market Value'].str[1:-1].astype('float')"
   ]
  },
  {
   "cell_type": "code",
   "execution_count": 15,
   "id": "cabb9fd2",
   "metadata": {},
   "outputs": [
    {
     "data": {
      "text/plain": [
       "<AxesSubplot:xlabel='Name'>"
      ]
     },
     "execution_count": 15,
     "metadata": {},
     "output_type": "execute_result"
    },
    {
     "data": {
      "image/png": "[encoded data removed]",
      "text/plain": [
       "<Figure size 640x480 with 1 Axes>"
      ]
     },
     "metadata": {},
     "output_type": "display_data"
    }
   ],
   "source": [
    "#Bar chart of the top 10 transfers\n",
    "merged_transfer_id.sort_values(by='price', ascending=False)[:10].plot.bar(x = 'Name', y = 'price')"
   ]
  },
  {
   "cell_type": "code",
   "execution_count": 16,
   "id": "5a0b4a04",
   "metadata": {},
   "outputs": [
    {
     "data": {
      "text/plain": [
       "[<matplotlib.lines.Line2D at 0x7ff116643e20>]"
      ]
     },
     "execution_count": 16,
     "metadata": {},
     "output_type": "execute_result"
    },
    {
     "data": {
      "image/png": "[encoded data removed]",
      "text/plain": [
       "<Figure size 640x480 with 1 Axes>"
      ]
     },
     "metadata": {},
     "output_type": "display_data"
    }
   ],
   "source": [
    "import matplotlib.pyplot as plt\n",
    "\n",
    "X = mtm_df['weights']\n",
    "y = mtm_df['mtm']\n",
    "\n",
    "plt.plot(X, y, 'o', color='k')"
   ]
  },
  {
   "cell_type": "code",
   "execution_count": 17,
   "id": "52aabb93",
   "metadata": {},
   "outputs": [],
   "source": [
    "from sklearn.linear_model import Ridge\n",
    "from sklearn import metrics\n",
    "from sklearn.preprocessing import PolynomialFeatures, StandardScaler\n",
    "from sklearn.pipeline import Pipeline\n",
    "from sklearn.model_selection import GridSearchCV\n",
    "from sklearn.model_selection import train_test_split\n",
    "from sklearn.svm import SVR\n",
    "from sklearn.ensemble import RandomForestRegressor\n",
    "\n",
    "X = mtm_df[['weights']]\n",
    "y = mtm_df['mtm']\n",
    "\n",
    "X_train, X_test, y_train, y_test = train_test_split(X, y, test_size=0.1, random_state=42)\n",
    "\n",
    "\n",
    "ridge_poly = Pipeline([('standard_scaler', StandardScaler()),\n",
    "                    ('poly', PolynomialFeatures()),\n",
    "                    ('ridge', Ridge())])\n",
    "\n",
    "svr_poly = Pipeline([\n",
    "                    ('rfr', RandomForestRegressor())])\n",
    "\n",
    "param_ridge = {'ridge__alpha': [0.001, 0.01],\n",
    "              'poly__degree': [1,2,3,4]}\n",
    "parameters={'rfr__n_estimators': [100, 200, 600],\n",
    "            'rfr__max_depth':[5, 4, 6, 3]\n",
    "           }\n",
    "gs = GridSearchCV(ridge_poly, param_ridge, cv=5, n_jobs = 4)\n",
    "gs = gs.fit(X_train, y_train)"
   ]
  },
  {
   "cell_type": "code",
   "execution_count": 18,
   "id": "30b51ee2",
   "metadata": {},
   "outputs": [],
   "source": [
    "y_pred = gs.predict(X_test)"
   ]
  },
  {
   "cell_type": "code",
   "execution_count": 19,
   "id": "32d96cd6",
   "metadata": {},
   "outputs": [
    {
     "data": {
      "text/plain": [
       "{'poly__degree': 1, 'ridge__alpha': 0.01}"
      ]
     },
     "execution_count": 19,
     "metadata": {},
     "output_type": "execute_result"
    }
   ],
   "source": [
    "gs.best_params_"
   ]
  },
  {
   "cell_type": "markdown",
   "id": "88b3d6aa",
   "metadata": {},
   "source": [
    "## Create test df by dropping training values"
   ]
  },
  {
   "cell_type": "code",
   "execution_count": 20,
   "id": "758d5c69",
   "metadata": {},
   "outputs": [],
   "source": [
    "#Dropping the rows that are in train df\n",
    "test_df = features_list[~features_list['player_id'].isin(mtm_df['player_id'])].reset_index()"
   ]
  },
  {
   "cell_type": "code",
   "execution_count": 21,
   "id": "32400b22",
   "metadata": {},
   "outputs": [],
   "source": [
    "y_pred=gs.predict(features_list[['weights']])"
   ]
  },
  {
   "cell_type": "code",
   "execution_count": 22,
   "id": "841d77d7",
   "metadata": {
    "scrolled": true
   },
   "outputs": [],
   "source": [
    "#Estimate predictions\n",
    "features_list['prediction'] = y_pred"
   ]
  },
  {
   "cell_type": "code",
   "execution_count": 35,
   "id": "39854c89",
   "metadata": {},
   "outputs": [],
   "source": [
    "#Export to csv\n",
    "features_list.rename(columns={'player_name':'Player Name', 'prediction': \n",
    "                              'Market Value (mln \\u20ac)'}).round(1) \\\n",
    "            .to_csv('soccer_analytics/fair_player_value/fv_estimates.csv', index=False)"
   ]
  }
 ],
 "metadata": {
  "kernelspec": {
   "display_name": "Python 3 (ipykernel)",
   "language": "python",
   "name": "python3"
  },
  "language_info": {
   "codemirror_mode": {
    "name": "ipython",
    "version": 3
   },
   "file_extension": ".py",
   "mimetype": "text/x-python",
   "name": "python",
   "nbconvert_exporter": "python",
   "pygments_lexer": "ipython3",
   "version": "3.9.13"
  }
 },
 "nbformat": 4,
 "nbformat_minor": 5
}
